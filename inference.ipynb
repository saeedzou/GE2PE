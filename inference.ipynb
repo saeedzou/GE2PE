{
 "cells": [
  {
   "cell_type": "code",
   "execution_count": null,
   "id": "1f01ce40",
   "metadata": {},
   "outputs": [],
   "source": [
    "%%capture\n",
    "! pip install -q --upgrade --no-cache-dir gdown\n",
    "! gdown -q 1CrCX8SNhMcmi3KogffFaS4pSaC0t73nJ #320\n",
    "! unzip -q ./checkpoint-320.zip\n",
    "! git clone https://huggingface.co/MahtaFetrat/Homo-GE2PE-Persian/\n",
    "! unzip -q Homo-GE2PE-Persian/model-weights/homo-ge2pe.zip -d homo-ge2pe\n",
    "! unzip -q Homo-GE2PE-Persian/model-weights/homo-t5.zip -d homo-t5\n",
    "! rm -rf Homo-GE2PE-Persian\n",
    "! pip install -q unidecode\n",
    "! pip install -q transformers\n",
    "\n",
    "!wget https://raw.githubusercontent.com/saeedzou/GE2PE/refs/heads/main/normalizer.py\n",
    "!wget https://raw.githubusercontent.com/saeedzou/GE2PE/refs/heads/main/GE2PE.py\n",
    "!wget https://raw.githubusercontent.com/saeedzou/GE2PE/refs/heads/main/final_map_words.csv\n",
    "\n",
    "!git clone https://github.com/saeedzou/ParsNorm.git\n",
    "import nltk\n",
    "nltk.download('cmudict')\n",
    "!cd ParsNorm && pip install -e . && pip install -r requirements.txt\n",
    "exit()"
   ]
  },
  {
   "cell_type": "code",
   "execution_count": null,
   "id": "c73c5649",
   "metadata": {},
   "outputs": [],
   "source": [
    "from GE2PE import GE2PE\n",
    "\n",
    "models = [\n",
    "    \"homo-ge2pe\",\n",
    "    \"homo-t5\",\n",
    "    \"checkpoint-320\"\n",
    "]\n",
    "g2p = GE2PE(model_path=models[0])"
   ]
  },
  {
   "cell_type": "code",
   "execution_count": null,
   "id": "695bfc3d",
   "metadata": {},
   "outputs": [],
   "source": [
    "input_list = [\n",
    "    'سلام!',\n",
    "    'اسم من سعید است.',\n",
    "    \"اختلاف‌نظر بین ما وجود داره\",\n",
    "    \"این خیلی غیرطبیعی است.\",\n",
    "]\n",
    "g2p.generate_with_punctuation(input_list, use_rules=True)"
   ]
  }
 ],
 "metadata": {
  "kernelspec": {
   "display_name": "general",
   "language": "python",
   "name": "python3"
  },
  "language_info": {
   "name": "python",
   "version": "3.10.16"
  }
 },
 "nbformat": 4,
 "nbformat_minor": 5
}
